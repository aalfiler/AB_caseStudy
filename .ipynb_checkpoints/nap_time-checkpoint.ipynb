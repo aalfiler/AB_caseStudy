{
 "cells": [
  {
   "cell_type": "markdown",
   "metadata": {},
   "source": [
    "# 1.) What causes post-Thanksgiving fatigue?"
   ]
  },
  {
   "cell_type": "markdown",
   "metadata": {},
   "source": [
    "- **Background**: After a turkey meal, blood levels of tryptophan rise, which may amplify the pineal's production of such serotonin, but not melatonin, whose synthesis rate depends on the amount of enzymes available for the subsequent biochemical reactions to occur. If turkey is not the culprit, then what besides dessert causes post-Thanksgiving torpidity? It may simply be a function of scarfing down enormous quantities of food. \"Studies have indicated that stretching of the small intestine induces sleepiness and a protein–fat loading of the stomach induces sleepiness,\" says biologist H. Craig Heller at Stanford University in Palo Alto, Calif., \"and, more blood going to the gastrointestinal tract means less going elsewhere,\"—for example, the brain or skeletal muscle.\n",
    "\n",
    "- **Objective**: Analyze dataset to gain insight on the different types of food served during Thanksgiving that can help create a product that helps adults stay awake after their meal.\n",
    "\n",
    "- **Hypotheses**: Eating too much during Thanksgiving meal may cause post-meal fatigue.\n",
    "\n",
    "- **Questions**: \n",
    "    1. What is the main dish served during Thanksgiving? What is the preferred way that it's cooked? \n",
    "    2. What are the common side dishes served? \n",
    "    3. What are the characteristics of the responders? (income, age, gender, geographical location)\n",
    "    4. How far do responders typically travel for Thanksgiving? Could the post-meal fatigue be from traveling?\n",
    "    5. What are the limitations of this dataset? \n",
    "    6. What additional data would be useful to have?"
   ]
  },
  {
   "cell_type": "code",
   "execution_count": 668,
   "metadata": {},
   "outputs": [],
   "source": [
    "# Import dependencies\n",
    "import numpy as np\n",
    "import pandas as pd   \n",
    "import matplotlib.pyplot as plt\n",
    "import hvplot.pandas\n",
    "import seaborn as sns\n",
    "import warnings\n",
    "warnings.filterwarnings('ignore')\n",
    "\n",
    "from pathlib import Path\n",
    "from pandas.plotting import register_matplotlib_converters"
   ]
  },
  {
   "cell_type": "code",
   "execution_count": 669,
   "metadata": {},
   "outputs": [
    {
     "data": {
      "text/html": [
       "<div>\n",
       "<style scoped>\n",
       "    .dataframe tbody tr th:only-of-type {\n",
       "        vertical-align: middle;\n",
       "    }\n",
       "\n",
       "    .dataframe tbody tr th {\n",
       "        vertical-align: top;\n",
       "    }\n",
       "\n",
       "    .dataframe thead th {\n",
       "        text-align: right;\n",
       "    }\n",
       "</style>\n",
       "<table border=\"1\" class=\"dataframe\">\n",
       "  <thead>\n",
       "    <tr style=\"text-align: right;\">\n",
       "      <th></th>\n",
       "      <th>RespondentID</th>\n",
       "      <th>Do you celebrate Thanksgiving?</th>\n",
       "      <th>What is typically the main dish at your Thanksgiving dinner?</th>\n",
       "      <th>What is typically the main dish at your Thanksgiving dinner? - Other (please specify)</th>\n",
       "      <th>How is the main dish typically cooked?</th>\n",
       "      <th>How is the main dish typically cooked? - Other (please specify)</th>\n",
       "      <th>What kind of stuffing/dressing do you typically have?</th>\n",
       "      <th>What kind of stuffing/dressing do you typically have? - Other (please specify)</th>\n",
       "      <th>What type of cranberry saucedo you typically have?</th>\n",
       "      <th>What type of cranberry saucedo you typically have? - Other (please specify)</th>\n",
       "      <th>...</th>\n",
       "      <th>Have you ever tried to meet up with hometown friends on Thanksgiving night?</th>\n",
       "      <th>Have you ever attended a \"Friendsgiving?\"</th>\n",
       "      <th>Will you shop any Black Friday sales on Thanksgiving Day?</th>\n",
       "      <th>Do you work in retail?</th>\n",
       "      <th>Will you employer make you work on Black Friday?</th>\n",
       "      <th>How would you describe where you live?</th>\n",
       "      <th>Age</th>\n",
       "      <th>What is your gender?</th>\n",
       "      <th>How much total combined money did all members of your HOUSEHOLD earn last year?</th>\n",
       "      <th>US Region</th>\n",
       "    </tr>\n",
       "  </thead>\n",
       "  <tbody>\n",
       "    <tr>\n",
       "      <th>0</th>\n",
       "      <td>4337954960</td>\n",
       "      <td>Yes</td>\n",
       "      <td>Turkey</td>\n",
       "      <td>NaN</td>\n",
       "      <td>Baked</td>\n",
       "      <td>NaN</td>\n",
       "      <td>Bread-based</td>\n",
       "      <td>NaN</td>\n",
       "      <td>None</td>\n",
       "      <td>NaN</td>\n",
       "      <td>...</td>\n",
       "      <td>Yes</td>\n",
       "      <td>No</td>\n",
       "      <td>No</td>\n",
       "      <td>No</td>\n",
       "      <td>NaN</td>\n",
       "      <td>Suburban</td>\n",
       "      <td>18 - 29</td>\n",
       "      <td>Male</td>\n",
       "      <td>$75,000 to $99,999</td>\n",
       "      <td>Middle Atlantic</td>\n",
       "    </tr>\n",
       "    <tr>\n",
       "      <th>1</th>\n",
       "      <td>4337951949</td>\n",
       "      <td>Yes</td>\n",
       "      <td>Turkey</td>\n",
       "      <td>NaN</td>\n",
       "      <td>Baked</td>\n",
       "      <td>NaN</td>\n",
       "      <td>Bread-based</td>\n",
       "      <td>NaN</td>\n",
       "      <td>Other (please specify)</td>\n",
       "      <td>Homemade cranberry gelatin ring</td>\n",
       "      <td>...</td>\n",
       "      <td>No</td>\n",
       "      <td>No</td>\n",
       "      <td>Yes</td>\n",
       "      <td>No</td>\n",
       "      <td>NaN</td>\n",
       "      <td>Rural</td>\n",
       "      <td>18 - 29</td>\n",
       "      <td>Female</td>\n",
       "      <td>$50,000 to $74,999</td>\n",
       "      <td>East South Central</td>\n",
       "    </tr>\n",
       "  </tbody>\n",
       "</table>\n",
       "<p>2 rows × 65 columns</p>\n",
       "</div>"
      ],
      "text/plain": [
       "   RespondentID Do you celebrate Thanksgiving?  \\\n",
       "0    4337954960                            Yes   \n",
       "1    4337951949                            Yes   \n",
       "\n",
       "  What is typically the main dish at your Thanksgiving dinner?  \\\n",
       "0                                             Turkey             \n",
       "1                                             Turkey             \n",
       "\n",
       "  What is typically the main dish at your Thanksgiving dinner? - Other (please specify)  \\\n",
       "0                                                NaN                                      \n",
       "1                                                NaN                                      \n",
       "\n",
       "  How is the main dish typically cooked?  \\\n",
       "0                                  Baked   \n",
       "1                                  Baked   \n",
       "\n",
       "  How is the main dish typically cooked? - Other (please specify)  \\\n",
       "0                                                NaN                \n",
       "1                                                NaN                \n",
       "\n",
       "  What kind of stuffing/dressing do you typically have?  \\\n",
       "0                                        Bread-based      \n",
       "1                                        Bread-based      \n",
       "\n",
       "  What kind of stuffing/dressing do you typically have? - Other (please specify)  \\\n",
       "0                                                NaN                               \n",
       "1                                                NaN                               \n",
       "\n",
       "  What type of cranberry saucedo you typically have?  \\\n",
       "0                                               None   \n",
       "1                             Other (please specify)   \n",
       "\n",
       "  What type of cranberry saucedo you typically have? - Other (please specify)  \\\n",
       "0                                                NaN                            \n",
       "1                    Homemade cranberry gelatin ring                            \n",
       "\n",
       "   ...  \\\n",
       "0  ...   \n",
       "1  ...   \n",
       "\n",
       "  Have you ever tried to meet up with hometown friends on Thanksgiving night?  \\\n",
       "0                                                Yes                            \n",
       "1                                                 No                            \n",
       "\n",
       "  Have you ever attended a \"Friendsgiving?\"  \\\n",
       "0                                        No   \n",
       "1                                        No   \n",
       "\n",
       "  Will you shop any Black Friday sales on Thanksgiving Day?  \\\n",
       "0                                                 No          \n",
       "1                                                Yes          \n",
       "\n",
       "  Do you work in retail? Will you employer make you work on Black Friday?  \\\n",
       "0                     No                                              NaN   \n",
       "1                     No                                              NaN   \n",
       "\n",
       "  How would you describe where you live?      Age What is your gender?  \\\n",
       "0                               Suburban  18 - 29                 Male   \n",
       "1                                  Rural  18 - 29               Female   \n",
       "\n",
       "  How much total combined money did all members of your HOUSEHOLD earn last year?  \\\n",
       "0                                 $75,000 to $99,999                                \n",
       "1                                 $50,000 to $74,999                                \n",
       "\n",
       "            US Region  \n",
       "0     Middle Atlantic  \n",
       "1  East South Central  \n",
       "\n",
       "[2 rows x 65 columns]"
      ]
     },
     "execution_count": 669,
     "metadata": {},
     "output_type": "execute_result"
    }
   ],
   "source": [
    "# Read data \n",
    "thanks_path = Path('/Users/aalfiler/Sites/career_dev/AB_CaseStudy/data-thanksgiving-2015/thanksgiving-2015-data.csv')\n",
    "thanks = pd.read_csv(thanks_path)\n",
    "thanks.head(2)"
   ]
  },
  {
   "cell_type": "code",
   "execution_count": 670,
   "metadata": {},
   "outputs": [
    {
     "data": {
      "text/plain": [
       "['RespondentID',\n",
       " 'Do you celebrate Thanksgiving?',\n",
       " 'What is typically the main dish at your Thanksgiving dinner?',\n",
       " 'What is typically the main dish at your Thanksgiving dinner? - Other (please specify)',\n",
       " 'How is the main dish typically cooked?',\n",
       " 'How is the main dish typically cooked? - Other (please specify)',\n",
       " 'What kind of stuffing/dressing do you typically have?',\n",
       " 'What kind of stuffing/dressing do you typically have? - Other (please specify)',\n",
       " 'What type of cranberry saucedo you typically have?',\n",
       " 'What type of cranberry saucedo you typically have? - Other (please specify)',\n",
       " 'Do you typically have gravy?',\n",
       " 'Which of these side dishes aretypically served at your Thanksgiving dinner? Please select all that apply. - Brussel sprouts',\n",
       " 'Which of these side dishes aretypically served at your Thanksgiving dinner? Please select all that apply. - Carrots',\n",
       " 'Which of these side dishes aretypically served at your Thanksgiving dinner? Please select all that apply. - Cauliflower',\n",
       " 'Which of these side dishes aretypically served at your Thanksgiving dinner? Please select all that apply. - Corn',\n",
       " 'Which of these side dishes aretypically served at your Thanksgiving dinner? Please select all that apply. - Cornbread',\n",
       " 'Which of these side dishes aretypically served at your Thanksgiving dinner? Please select all that apply. - Fruit salad',\n",
       " 'Which of these side dishes aretypically served at your Thanksgiving dinner? Please select all that apply. - Green beans/green bean casserole',\n",
       " 'Which of these side dishes aretypically served at your Thanksgiving dinner? Please select all that apply. - Macaroni and cheese',\n",
       " 'Which of these side dishes aretypically served at your Thanksgiving dinner? Please select all that apply. - Mashed potatoes',\n",
       " 'Which of these side dishes aretypically served at your Thanksgiving dinner? Please select all that apply. - Rolls/biscuits',\n",
       " 'Which of these side dishes aretypically served at your Thanksgiving dinner? Please select all that apply. - Squash',\n",
       " 'Which of these side dishes aretypically served at your Thanksgiving dinner? Please select all that apply. - Vegetable salad',\n",
       " 'Which of these side dishes aretypically served at your Thanksgiving dinner? Please select all that apply. - Yams/sweet potato casserole',\n",
       " 'Which of these side dishes aretypically served at your Thanksgiving dinner? Please select all that apply. - Other (please specify)',\n",
       " 'Which of these side dishes aretypically served at your Thanksgiving dinner? Please select all that apply. - Other (please specify).1',\n",
       " 'Which type of pie is typically served at your Thanksgiving dinner? Please select all that apply. - Apple',\n",
       " 'Which type of pie is typically served at your Thanksgiving dinner? Please select all that apply. - Buttermilk',\n",
       " 'Which type of pie is typically served at your Thanksgiving dinner? Please select all that apply. - Cherry',\n",
       " 'Which type of pie is typically served at your Thanksgiving dinner? Please select all that apply. - Chocolate',\n",
       " 'Which type of pie is typically served at your Thanksgiving dinner? Please select all that apply. - Coconut cream',\n",
       " 'Which type of pie is typically served at your Thanksgiving dinner? Please select all that apply. - Key lime',\n",
       " 'Which type of pie is typically served at your Thanksgiving dinner? Please select all that apply. - Peach',\n",
       " 'Which type of pie is typically served at your Thanksgiving dinner? Please select all that apply. - Pecan',\n",
       " 'Which type of pie is typically served at your Thanksgiving dinner? Please select all that apply. - Pumpkin',\n",
       " 'Which type of pie is typically served at your Thanksgiving dinner? Please select all that apply. - Sweet Potato',\n",
       " 'Which type of pie is typically served at your Thanksgiving dinner? Please select all that apply. - None',\n",
       " 'Which type of pie is typically served at your Thanksgiving dinner? Please select all that apply. - Other (please specify)',\n",
       " 'Which type of pie is typically served at your Thanksgiving dinner? Please select all that apply. - Other (please specify).1',\n",
       " 'Which of these desserts do you typically have at Thanksgiving dinner? Please select all that apply.   - Apple cobbler',\n",
       " 'Which of these desserts do you typically have at Thanksgiving dinner? Please select all that apply.   - Blondies',\n",
       " 'Which of these desserts do you typically have at Thanksgiving dinner? Please select all that apply.   - Brownies',\n",
       " 'Which of these desserts do you typically have at Thanksgiving dinner? Please select all that apply.   - Carrot cake',\n",
       " 'Which of these desserts do you typically have at Thanksgiving dinner? Please select all that apply.   - Cheesecake',\n",
       " 'Which of these desserts do you typically have at Thanksgiving dinner? Please select all that apply.   - Cookies',\n",
       " 'Which of these desserts do you typically have at Thanksgiving dinner? Please select all that apply.   - Fudge',\n",
       " 'Which of these desserts do you typically have at Thanksgiving dinner? Please select all that apply.   - Ice cream',\n",
       " 'Which of these desserts do you typically have at Thanksgiving dinner? Please select all that apply.   - Peach cobbler',\n",
       " 'Which of these desserts do you typically have at Thanksgiving dinner? Please select all that apply.   - None',\n",
       " 'Which of these desserts do you typically have at Thanksgiving dinner? Please select all that apply.   - Other (please specify)',\n",
       " 'Which of these desserts do you typically have at Thanksgiving dinner? Please select all that apply.   - Other (please specify).1',\n",
       " 'Do you typically pray before or after the Thanksgiving meal?',\n",
       " 'How far will you travel for Thanksgiving?',\n",
       " \"Will you watch any of the following programs on Thanksgiving? Please select all that apply. - Macy's Parade\",\n",
       " 'What\\'s the age cutoff at your \"kids\\' table\" at Thanksgiving?',\n",
       " 'Have you ever tried to meet up with hometown friends on Thanksgiving night?',\n",
       " 'Have you ever attended a \"Friendsgiving?\"',\n",
       " 'Will you shop any Black Friday sales on Thanksgiving Day?',\n",
       " 'Do you work in retail?',\n",
       " 'Will you employer make you work on Black Friday?',\n",
       " 'How would you describe where you live?',\n",
       " 'Age',\n",
       " 'What is your gender?',\n",
       " 'How much total combined money did all members of your HOUSEHOLD earn last year?',\n",
       " 'US Region']"
      ]
     },
     "execution_count": 670,
     "metadata": {},
     "output_type": "execute_result"
    }
   ],
   "source": [
    "#identify column headers\n",
    "list(thanks.columns)"
   ]
  },
  {
   "cell_type": "code",
   "execution_count": 671,
   "metadata": {},
   "outputs": [
    {
     "data": {
      "text/plain": [
       "(1058, 65)"
      ]
     },
     "execution_count": 671,
     "metadata": {},
     "output_type": "execute_result"
    }
   ],
   "source": [
    "# check the shape of the data \n",
    "thanks.shape"
   ]
  },
  {
   "cell_type": "code",
   "execution_count": 672,
   "metadata": {},
   "outputs": [],
   "source": [
    "# Remove responses who do not celebrate thanksgiving\n",
    "thanks = thanks[thanks[\"Do you celebrate Thanksgiving?\"] != 'No']"
   ]
  },
  {
   "cell_type": "code",
   "execution_count": 673,
   "metadata": {},
   "outputs": [
    {
     "data": {
      "text/plain": [
       "1"
      ]
     },
     "execution_count": 673,
     "metadata": {},
     "output_type": "execute_result"
    }
   ],
   "source": [
    "#verify that 'no' is dropped that only 'yes' values remain\n",
    "thanks_count = len(thanks['Do you celebrate Thanksgiving?'].unique())\n",
    "thanks_count"
   ]
  },
  {
   "cell_type": "code",
   "execution_count": 674,
   "metadata": {},
   "outputs": [
    {
     "data": {
      "text/plain": [
       "(980, 65)"
      ]
     },
     "execution_count": 674,
     "metadata": {},
     "output_type": "execute_result"
    }
   ],
   "source": [
    "# check number of rows remaining\n",
    "thanks.shape"
   ]
  },
  {
   "cell_type": "code",
   "execution_count": 675,
   "metadata": {},
   "outputs": [],
   "source": [
    "# remove duplicates and creates a copy of the old dataframe\n",
    "thanks = thanks.drop_duplicates().copy()"
   ]
  },
  {
   "cell_type": "markdown",
   "metadata": {},
   "source": [
    "## Main dish served and preferred way cooked"
   ]
  },
  {
   "cell_type": "code",
   "execution_count": 676,
   "metadata": {},
   "outputs": [],
   "source": [
    "thanks = thanks.rename(columns={'What is typically the main dish at your Thanksgiving dinner?':'main_dish'})"
   ]
  },
  {
   "cell_type": "code",
   "execution_count": 677,
   "metadata": {},
   "outputs": [
    {
     "data": {
      "text/plain": [
       "main_dish               How is the main dish typically cooked?\n",
       "Chicken                 Fried                                       2\n",
       "                        Other (please specify)                      2\n",
       "                        Baked                                       4\n",
       "                        Roasted                                     4\n",
       "Ham/Pork                I don't know                                1\n",
       "                        Other (please specify)                      1\n",
       "                        Roasted                                     5\n",
       "                        Baked                                      22\n",
       "I don't know            Fried                                       1\n",
       "                        Roasted                                     1\n",
       "                        I don't know                                3\n",
       "Other (please specify)  Fried                                       1\n",
       "                        I don't know                                1\n",
       "                        Roasted                                     5\n",
       "                        Other (please specify)                     12\n",
       "                        Baked                                      16\n",
       "Roast beef              Other (please specify)                      1\n",
       "                        Fried                                       2\n",
       "                        Baked                                       3\n",
       "                        Roasted                                     5\n",
       "Tofurkey                I don't know                                1\n",
       "                        Other (please specify)                      1\n",
       "                        Roasted                                     4\n",
       "                        Baked                                      14\n",
       "Turducken               Roasted                                     3\n",
       "Turkey                  I don't know                               11\n",
       "                        Other (please specify)                     34\n",
       "                        Fried                                      41\n",
       "                        Roasted                                   351\n",
       "                        Baked                                     422\n",
       "Name: How is the main dish typically cooked?, dtype: int64"
      ]
     },
     "execution_count": 677,
     "metadata": {},
     "output_type": "execute_result"
    }
   ],
   "source": [
    "# Baked turkey is the prefered thanks giving dish\n",
    "main_dish = thanks.groupby('main_dish')['How is the main dish typically cooked?'].value_counts(ascending=True)\n",
    "main_dish"
   ]
  },
  {
   "cell_type": "code",
   "execution_count": 647,
   "metadata": {},
   "outputs": [],
   "source": [
    "# # Intialise data to Dicts of series.\n",
    "# dessert = {'count' : pd.Series([295, 266, 204, 191, 128, 110, 103,72,43,16],\n",
    "#                        index =['none', 'ice cream', ' cookies', 'cheesecake', 'brownies', 'apple cobbler', 'peach cobbler', 'carrot cake',\n",
    "#                               'fudge', 'blondies'])}\n",
    "  \n",
    "# # creates Dataframe.\n",
    "# dessert = pd.DataFrame(dessert)\n",
    "# dessert"
   ]
  },
  {
   "cell_type": "markdown",
   "metadata": {},
   "source": [
    "# Stuffing"
   ]
  },
  {
   "cell_type": "code",
   "execution_count": 678,
   "metadata": {},
   "outputs": [
    {
     "data": {
      "text/plain": [
       "Bread-based               836\n",
       "None                       60\n",
       "Rice-based                 42\n",
       "Other (please specify)     36\n",
       "Name: What kind of stuffing/dressing do you typically have?, dtype: int64"
      ]
     },
     "execution_count": 678,
     "metadata": {},
     "output_type": "execute_result"
    }
   ],
   "source": [
    "stuffing = thanks['What kind of stuffing/dressing do you typically have?']\n",
    "stuffing.value_counts().sort_values(ascending=False)"
   ]
  },
  {
   "cell_type": "markdown",
   "metadata": {},
   "source": [
    "## Desserts"
   ]
  },
  {
   "cell_type": "code",
   "execution_count": 679,
   "metadata": {},
   "outputs": [],
   "source": [
    "# rename columns\n",
    "thanks = thanks.rename(columns={'Which of these desserts do you typically have at Thanksgiving dinner? Please select all that apply.   - Apple cobbler':'apple cobbler'})\n",
    "thanks = thanks.rename(columns={'Which of these desserts do you typically have at Thanksgiving dinner? Please select all that apply.   - Blondies':'blondies'})\n",
    "thanks = thanks.rename(columns={'Which of these desserts do you typically have at Thanksgiving dinner? Please select all that apply.   - Brownies':'brownies'})\n",
    "thanks = thanks.rename(columns={'Which of these desserts do you typically have at Thanksgiving dinner? Please select all that apply.   - Carrot cake':'carrot cake'})\n",
    "thanks = thanks.rename(columns={'Which of these desserts do you typically have at Thanksgiving dinner? Please select all that apply.   - Cheesecake':'cheesecake'})\n",
    "thanks = thanks.rename(columns={'Which of these desserts do you typically have at Thanksgiving dinner? Please select all that apply.   - Cookies':'cookies'})\n",
    "thanks = thanks.rename(columns={'Which of these desserts do you typically have at Thanksgiving dinner? Please select all that apply.   - Fudge':'fudge'})\n",
    "thanks = thanks.rename(columns={'Which of these desserts do you typically have at Thanksgiving dinner? Please select all that apply.   - Ice cream':'ice cream'})\n",
    "thanks = thanks.rename(columns={'Which of these desserts do you typically have at Thanksgiving dinner? Please select all that apply.   - Peach cobbler':'peach cobbler'})\n",
    "thanks = thanks.rename(columns={'Which of these desserts do you typically have at Thanksgiving dinner? Please select all that apply.   - None':'none'})"
   ]
  },
  {
   "cell_type": "code",
   "execution_count": 680,
   "metadata": {},
   "outputs": [
    {
     "data": {
      "text/html": [
       "<div>\n",
       "<style scoped>\n",
       "    .dataframe tbody tr th:only-of-type {\n",
       "        vertical-align: middle;\n",
       "    }\n",
       "\n",
       "    .dataframe tbody tr th {\n",
       "        vertical-align: top;\n",
       "    }\n",
       "\n",
       "    .dataframe thead th {\n",
       "        text-align: right;\n",
       "    }\n",
       "</style>\n",
       "<table border=\"1\" class=\"dataframe\">\n",
       "  <thead>\n",
       "    <tr style=\"text-align: right;\">\n",
       "      <th></th>\n",
       "      <th>apple cobbler</th>\n",
       "      <th>blondies</th>\n",
       "      <th>brownies</th>\n",
       "      <th>carrot cake</th>\n",
       "      <th>cheesecake</th>\n",
       "      <th>cookies</th>\n",
       "      <th>fudge</th>\n",
       "      <th>ice cream</th>\n",
       "      <th>peach cobbler</th>\n",
       "      <th>none</th>\n",
       "    </tr>\n",
       "  </thead>\n",
       "  <tbody>\n",
       "    <tr>\n",
       "      <th>0</th>\n",
       "      <td>NaN</td>\n",
       "      <td>NaN</td>\n",
       "      <td>NaN</td>\n",
       "      <td>NaN</td>\n",
       "      <td>Cheesecake</td>\n",
       "      <td>Cookies</td>\n",
       "      <td>NaN</td>\n",
       "      <td>Ice cream</td>\n",
       "      <td>NaN</td>\n",
       "      <td>NaN</td>\n",
       "    </tr>\n",
       "    <tr>\n",
       "      <th>1</th>\n",
       "      <td>NaN</td>\n",
       "      <td>NaN</td>\n",
       "      <td>NaN</td>\n",
       "      <td>NaN</td>\n",
       "      <td>Cheesecake</td>\n",
       "      <td>Cookies</td>\n",
       "      <td>NaN</td>\n",
       "      <td>NaN</td>\n",
       "      <td>NaN</td>\n",
       "      <td>NaN</td>\n",
       "    </tr>\n",
       "    <tr>\n",
       "      <th>2</th>\n",
       "      <td>NaN</td>\n",
       "      <td>NaN</td>\n",
       "      <td>Brownies</td>\n",
       "      <td>Carrot cake</td>\n",
       "      <td>NaN</td>\n",
       "      <td>Cookies</td>\n",
       "      <td>Fudge</td>\n",
       "      <td>Ice cream</td>\n",
       "      <td>NaN</td>\n",
       "      <td>NaN</td>\n",
       "    </tr>\n",
       "    <tr>\n",
       "      <th>3</th>\n",
       "      <td>NaN</td>\n",
       "      <td>NaN</td>\n",
       "      <td>NaN</td>\n",
       "      <td>NaN</td>\n",
       "      <td>NaN</td>\n",
       "      <td>NaN</td>\n",
       "      <td>NaN</td>\n",
       "      <td>NaN</td>\n",
       "      <td>NaN</td>\n",
       "      <td>None</td>\n",
       "    </tr>\n",
       "    <tr>\n",
       "      <th>4</th>\n",
       "      <td>NaN</td>\n",
       "      <td>NaN</td>\n",
       "      <td>NaN</td>\n",
       "      <td>NaN</td>\n",
       "      <td>NaN</td>\n",
       "      <td>NaN</td>\n",
       "      <td>NaN</td>\n",
       "      <td>NaN</td>\n",
       "      <td>NaN</td>\n",
       "      <td>None</td>\n",
       "    </tr>\n",
       "  </tbody>\n",
       "</table>\n",
       "</div>"
      ],
      "text/plain": [
       "  apple cobbler blondies  brownies  carrot cake  cheesecake  cookies  fudge  \\\n",
       "0           NaN      NaN       NaN          NaN  Cheesecake  Cookies    NaN   \n",
       "1           NaN      NaN       NaN          NaN  Cheesecake  Cookies    NaN   \n",
       "2           NaN      NaN  Brownies  Carrot cake         NaN  Cookies  Fudge   \n",
       "3           NaN      NaN       NaN          NaN         NaN      NaN    NaN   \n",
       "4           NaN      NaN       NaN          NaN         NaN      NaN    NaN   \n",
       "\n",
       "   ice cream peach cobbler  none  \n",
       "0  Ice cream           NaN   NaN  \n",
       "1        NaN           NaN   NaN  \n",
       "2  Ice cream           NaN   NaN  \n",
       "3        NaN           NaN  None  \n",
       "4        NaN           NaN  None  "
      ]
     },
     "execution_count": 680,
     "metadata": {},
     "output_type": "execute_result"
    }
   ],
   "source": [
    "dessert = thanks[['apple cobbler', 'blondies', 'brownies', 'carrot cake', 'cheesecake','cookies', 'fudge','ice cream','peach cobbler','none' ]]\n",
    "dessert.head()"
   ]
  },
  {
   "cell_type": "code",
   "execution_count": 681,
   "metadata": {},
   "outputs": [
    {
     "data": {
      "text/plain": [
       "none             295\n",
       "ice cream        266\n",
       "cookies          204\n",
       "cheesecake       191\n",
       "brownies         128\n",
       "apple cobbler    110\n",
       "peach cobbler    103\n",
       "carrot cake       72\n",
       "fudge             43\n",
       "blondies          16\n",
       "dtype: int64"
      ]
     },
     "execution_count": 681,
     "metadata": {},
     "output_type": "execute_result"
    }
   ],
   "source": [
    "dessert.count().sort_values(ascending=False)"
   ]
  },
  {
   "cell_type": "code",
   "execution_count": 682,
   "metadata": {},
   "outputs": [
    {
     "data": {
      "text/html": [
       "<div>\n",
       "<style scoped>\n",
       "    .dataframe tbody tr th:only-of-type {\n",
       "        vertical-align: middle;\n",
       "    }\n",
       "\n",
       "    .dataframe tbody tr th {\n",
       "        vertical-align: top;\n",
       "    }\n",
       "\n",
       "    .dataframe thead th {\n",
       "        text-align: right;\n",
       "    }\n",
       "</style>\n",
       "<table border=\"1\" class=\"dataframe\">\n",
       "  <thead>\n",
       "    <tr style=\"text-align: right;\">\n",
       "      <th></th>\n",
       "      <th>count</th>\n",
       "    </tr>\n",
       "  </thead>\n",
       "  <tbody>\n",
       "    <tr>\n",
       "      <th>none</th>\n",
       "      <td>295</td>\n",
       "    </tr>\n",
       "    <tr>\n",
       "      <th>ice cream</th>\n",
       "      <td>266</td>\n",
       "    </tr>\n",
       "    <tr>\n",
       "      <th>cookies</th>\n",
       "      <td>204</td>\n",
       "    </tr>\n",
       "    <tr>\n",
       "      <th>cheesecake</th>\n",
       "      <td>191</td>\n",
       "    </tr>\n",
       "    <tr>\n",
       "      <th>brownies</th>\n",
       "      <td>128</td>\n",
       "    </tr>\n",
       "    <tr>\n",
       "      <th>apple cobbler</th>\n",
       "      <td>110</td>\n",
       "    </tr>\n",
       "    <tr>\n",
       "      <th>peach cobbler</th>\n",
       "      <td>103</td>\n",
       "    </tr>\n",
       "    <tr>\n",
       "      <th>carrot cake</th>\n",
       "      <td>72</td>\n",
       "    </tr>\n",
       "    <tr>\n",
       "      <th>fudge</th>\n",
       "      <td>43</td>\n",
       "    </tr>\n",
       "    <tr>\n",
       "      <th>blondies</th>\n",
       "      <td>16</td>\n",
       "    </tr>\n",
       "  </tbody>\n",
       "</table>\n",
       "</div>"
      ],
      "text/plain": [
       "               count\n",
       "none             295\n",
       "ice cream        266\n",
       " cookies         204\n",
       "cheesecake       191\n",
       "brownies         128\n",
       "apple cobbler    110\n",
       "peach cobbler    103\n",
       "carrot cake       72\n",
       "fudge             43\n",
       "blondies          16"
      ]
     },
     "execution_count": 682,
     "metadata": {},
     "output_type": "execute_result"
    }
   ],
   "source": [
    "# Prep data for plotting.\n",
    "dessert = {'count' : pd.Series([295, 266, 204, 191, 128, 110, 103,72,43,16],\n",
    "                       index =['none', 'ice cream', ' cookies', 'cheesecake', 'brownies', 'apple cobbler', 'peach cobbler', 'carrot cake',\n",
    "                              'fudge', 'blondies'])}\n",
    "  \n",
    "# creates Dataframe.\n",
    "dessert = pd.DataFrame(dessert)\n",
    "dessert"
   ]
  },
  {
   "cell_type": "code",
   "execution_count": 683,
   "metadata": {},
   "outputs": [
    {
     "data": {
      "text/html": [
       "<div>\n",
       "<style scoped>\n",
       "    .dataframe tbody tr th:only-of-type {\n",
       "        vertical-align: middle;\n",
       "    }\n",
       "\n",
       "    .dataframe tbody tr th {\n",
       "        vertical-align: top;\n",
       "    }\n",
       "\n",
       "    .dataframe thead th {\n",
       "        text-align: right;\n",
       "    }\n",
       "</style>\n",
       "<table border=\"1\" class=\"dataframe\">\n",
       "  <thead>\n",
       "    <tr style=\"text-align: right;\">\n",
       "      <th></th>\n",
       "      <th>index</th>\n",
       "      <th>count</th>\n",
       "    </tr>\n",
       "  </thead>\n",
       "  <tbody>\n",
       "    <tr>\n",
       "      <th>0</th>\n",
       "      <td>none</td>\n",
       "      <td>295</td>\n",
       "    </tr>\n",
       "    <tr>\n",
       "      <th>1</th>\n",
       "      <td>ice cream</td>\n",
       "      <td>266</td>\n",
       "    </tr>\n",
       "    <tr>\n",
       "      <th>2</th>\n",
       "      <td>cookies</td>\n",
       "      <td>204</td>\n",
       "    </tr>\n",
       "    <tr>\n",
       "      <th>3</th>\n",
       "      <td>cheesecake</td>\n",
       "      <td>191</td>\n",
       "    </tr>\n",
       "    <tr>\n",
       "      <th>4</th>\n",
       "      <td>brownies</td>\n",
       "      <td>128</td>\n",
       "    </tr>\n",
       "  </tbody>\n",
       "</table>\n",
       "</div>"
      ],
      "text/plain": [
       "        index  count\n",
       "0        none    295\n",
       "1   ice cream    266\n",
       "2     cookies    204\n",
       "3  cheesecake    191\n",
       "4    brownies    128"
      ]
     },
     "execution_count": 683,
     "metadata": {},
     "output_type": "execute_result"
    }
   ],
   "source": [
    "dessert = dessert.reset_index().head()\n",
    "dessert"
   ]
  },
  {
   "cell_type": "code",
   "execution_count": 686,
   "metadata": {},
   "outputs": [
    {
     "data": {},
     "metadata": {},
     "output_type": "display_data"
    },
    {
     "data": {
      "application/vnd.holoviews_exec.v0+json": "",
      "text/html": [
       "<div id='1417'>\n",
       "\n",
       "\n",
       "\n",
       "\n",
       "\n",
       "  <div class=\"bk-root\" id=\"a7ea19f9-d69b-483d-8409-6afb4f9f517d\" data-root-id=\"1417\"></div>\n",
       "</div>\n",
       "<script type=\"application/javascript\">(function(root) {\n",
       "  function embed_document(root) {\n",
       "    var docs_json = {\"6c15a165-b8dc-4dd2-a06b-51025fb91b92\":{\"roots\":{\"references\":[{\"attributes\":{\"active_drag\":\"auto\",\"active_inspect\":\"auto\",\"active_multi\":null,\"active_scroll\":\"auto\",\"active_tap\":\"auto\",\"tools\":[{\"id\":\"1421\"},{\"id\":\"1438\"},{\"id\":\"1439\"},{\"id\":\"1440\"},{\"id\":\"1441\"},{\"id\":\"1442\"}]},\"id\":\"1444\",\"type\":\"Toolbar\"},{\"attributes\":{},\"id\":\"1440\",\"type\":\"WheelZoomTool\"},{\"attributes\":{\"data_source\":{\"id\":\"1451\"},\"glyph\":{\"id\":\"1454\"},\"hover_glyph\":null,\"muted_glyph\":{\"id\":\"1456\"},\"nonselection_glyph\":{\"id\":\"1455\"},\"selection_glyph\":null,\"view\":{\"id\":\"1458\"}},\"id\":\"1457\",\"type\":\"GlyphRenderer\"},{\"attributes\":{},\"id\":\"1439\",\"type\":\"PanTool\"},{\"attributes\":{\"end\":311.7,\"reset_end\":311.7,\"reset_start\":0.0,\"tags\":[[[\"count\",\"count\",null]]]},\"id\":\"1420\",\"type\":\"Range1d\"},{\"attributes\":{\"data\":{\"count\":[295,266,204,191,128],\"index\":[\"none\",\"ice cream\",\" cookies\",\"cheesecake\",\"brownies\"]},\"selected\":{\"id\":\"1452\"},\"selection_policy\":{\"id\":\"1469\"}},\"id\":\"1451\",\"type\":\"ColumnDataSource\"},{\"attributes\":{\"fill_alpha\":{\"value\":0.2},\"fill_color\":{\"value\":\"#1f77b3\"},\"line_alpha\":{\"value\":0.2},\"top\":{\"field\":\"count\"},\"width\":{\"value\":0.8},\"x\":{\"field\":\"index\"}},\"id\":\"1456\",\"type\":\"VBar\"},{\"attributes\":{\"margin\":[5,5,5,5],\"name\":\"HSpacer02138\",\"sizing_mode\":\"stretch_width\"},\"id\":\"1479\",\"type\":\"Spacer\"},{\"attributes\":{\"axis_label\":\"Dessert Type\",\"bounds\":\"auto\",\"formatter\":{\"id\":\"1460\"},\"major_label_orientation\":1.5707963267948966,\"ticker\":{\"id\":\"1432\"}},\"id\":\"1431\",\"type\":\"CategoricalAxis\"},{\"attributes\":{},\"id\":\"1452\",\"type\":\"Selection\"},{\"attributes\":{\"children\":[{\"id\":\"1418\"},{\"id\":\"1422\"},{\"id\":\"1479\"}],\"margin\":[0,0,0,0],\"name\":\"Row02133\",\"tags\":[\"embedded\"]},\"id\":\"1417\",\"type\":\"Row\"},{\"attributes\":{\"axis_label\":\"Count\",\"bounds\":\"auto\",\"formatter\":{\"id\":\"1462\"},\"major_label_orientation\":\"horizontal\",\"ticker\":{\"id\":\"1435\"}},\"id\":\"1434\",\"type\":\"LinearAxis\"},{\"attributes\":{},\"id\":\"1460\",\"type\":\"CategoricalTickFormatter\"},{\"attributes\":{},\"id\":\"1429\",\"type\":\"LinearScale\"},{\"attributes\":{\"axis\":{\"id\":\"1434\"},\"dimension\":1,\"grid_line_color\":null,\"ticker\":null},\"id\":\"1437\",\"type\":\"Grid\"},{\"attributes\":{\"fill_color\":{\"value\":\"#1f77b3\"},\"top\":{\"field\":\"count\"},\"width\":{\"value\":0.8},\"x\":{\"field\":\"index\"}},\"id\":\"1454\",\"type\":\"VBar\"},{\"attributes\":{},\"id\":\"1435\",\"type\":\"BasicTicker\"},{\"attributes\":{\"overlay\":{\"id\":\"1443\"}},\"id\":\"1441\",\"type\":\"BoxZoomTool\"},{\"attributes\":{\"fill_alpha\":{\"value\":0.1},\"fill_color\":{\"value\":\"#1f77b3\"},\"line_alpha\":{\"value\":0.1},\"top\":{\"field\":\"count\"},\"width\":{\"value\":0.8},\"x\":{\"field\":\"index\"}},\"id\":\"1455\",\"type\":\"VBar\"},{\"attributes\":{\"factors\":[\"none\",\"ice cream\",\" cookies\",\"cheesecake\",\"brownies\"],\"tags\":[[[\"index\",\"index\",null]]]},\"id\":\"1419\",\"type\":\"FactorRange\"},{\"attributes\":{\"below\":[{\"id\":\"1431\"}],\"center\":[{\"id\":\"1433\"},{\"id\":\"1437\"}],\"left\":[{\"id\":\"1434\"}],\"margin\":[5,5,5,5],\"min_border_bottom\":10,\"min_border_left\":10,\"min_border_right\":10,\"min_border_top\":10,\"plot_height\":300,\"plot_width\":700,\"renderers\":[{\"id\":\"1457\"}],\"sizing_mode\":\"fixed\",\"title\":{\"id\":\"1423\"},\"toolbar\":{\"id\":\"1444\"},\"x_range\":{\"id\":\"1419\"},\"x_scale\":{\"id\":\"1427\"},\"y_range\":{\"id\":\"1420\"},\"y_scale\":{\"id\":\"1429\"}},\"id\":\"1422\",\"subtype\":\"Figure\",\"type\":\"Plot\"},{\"attributes\":{},\"id\":\"1469\",\"type\":\"UnionRenderers\"},{\"attributes\":{\"bottom_units\":\"screen\",\"fill_alpha\":0.5,\"fill_color\":\"lightgrey\",\"left_units\":\"screen\",\"level\":\"overlay\",\"line_alpha\":1.0,\"line_color\":\"black\",\"line_dash\":[4,4],\"line_width\":2,\"right_units\":\"screen\",\"top_units\":\"screen\"},\"id\":\"1443\",\"type\":\"BoxAnnotation\"},{\"attributes\":{\"text\":\"\",\"text_color\":{\"value\":\"black\"},\"text_font_size\":{\"value\":\"12pt\"}},\"id\":\"1423\",\"type\":\"Title\"},{\"attributes\":{\"margin\":[5,5,5,5],\"name\":\"HSpacer02137\",\"sizing_mode\":\"stretch_width\"},\"id\":\"1418\",\"type\":\"Spacer\"},{\"attributes\":{},\"id\":\"1442\",\"type\":\"ResetTool\"},{\"attributes\":{},\"id\":\"1427\",\"type\":\"CategoricalScale\"},{\"attributes\":{\"callback\":null,\"renderers\":[{\"id\":\"1457\"}],\"tags\":[\"hv_created\"],\"tooltips\":[[\"index\",\"@{index}\"],[\"count\",\"@{count}\"]]},\"id\":\"1421\",\"type\":\"HoverTool\"},{\"attributes\":{},\"id\":\"1432\",\"type\":\"CategoricalTicker\"},{\"attributes\":{\"axis\":{\"id\":\"1431\"},\"grid_line_color\":null,\"ticker\":null},\"id\":\"1433\",\"type\":\"Grid\"},{\"attributes\":{},\"id\":\"1462\",\"type\":\"BasicTickFormatter\"},{\"attributes\":{\"source\":{\"id\":\"1451\"}},\"id\":\"1458\",\"type\":\"CDSView\"},{\"attributes\":{},\"id\":\"1438\",\"type\":\"SaveTool\"}],\"root_ids\":[\"1417\"]},\"title\":\"Bokeh Application\",\"version\":\"2.2.3\"}};\n",
       "    var render_items = [{\"docid\":\"6c15a165-b8dc-4dd2-a06b-51025fb91b92\",\"root_ids\":[\"1417\"],\"roots\":{\"1417\":\"a7ea19f9-d69b-483d-8409-6afb4f9f517d\"}}];\n",
       "    root.Bokeh.embed.embed_items_notebook(docs_json, render_items);\n",
       "  }\n",
       "  if (root.Bokeh !== undefined && root.Bokeh.Panel !== undefined) {\n",
       "    embed_document(root);\n",
       "  } else {\n",
       "    var attempts = 0;\n",
       "    var timer = setInterval(function(root) {\n",
       "      if (root.Bokeh !== undefined && root.Bokeh.Panel !== undefined) {\n",
       "        clearInterval(timer);\n",
       "        embed_document(root);\n",
       "      } else if (document.readyState == \"complete\") {\n",
       "        attempts++;\n",
       "        if (attempts > 100) {\n",
       "          clearInterval(timer);\n",
       "          console.log(\"Bokeh: ERROR: Unable to run BokehJS code because BokehJS library is missing\");\n",
       "        }\n",
       "      }\n",
       "    }, 10, root)\n",
       "  }\n",
       "})(window);</script>"
      ],
      "text/plain": [
       ":Bars   [index]   (count)"
      ]
     },
     "execution_count": 686,
     "metadata": {
      "application/vnd.holoviews_exec.v0+json": {
       "id": "1417"
      }
     },
     "output_type": "execute_result"
    }
   ],
   "source": [
    "dessert.hvplot.bar(\n",
    "    x=\"index\", y=\"count\", xlabel=\"Dessert Type\", ylabel=\"Count\", rot=90\n",
    ")"
   ]
  },
  {
   "cell_type": "markdown",
   "metadata": {},
   "source": [
    "## Demographics"
   ]
  },
  {
   "cell_type": "code",
   "execution_count": null,
   "metadata": {},
   "outputs": [],
   "source": [
    "thanks = thanks.rename(columns={'How much total combined money did all members of your HOUSEHOLD earn last year?':'total_household_income'})\n",
    "thanks.head(2)"
   ]
  },
  {
   "cell_type": "code",
   "execution_count": null,
   "metadata": {},
   "outputs": [],
   "source": [
    "# Examine Age\n",
    "thanks[\"Age\"].value_counts()"
   ]
  },
  {
   "cell_type": "code",
   "execution_count": null,
   "metadata": {},
   "outputs": [],
   "source": [
    "thanks[\"Age\"].describe()"
   ]
  },
  {
   "cell_type": "code",
   "execution_count": null,
   "metadata": {},
   "outputs": [],
   "source": [
    "# Examine gender\n",
    "thanks[\"What is your gender?\"].describe()"
   ]
  },
  {
   "cell_type": "code",
   "execution_count": null,
   "metadata": {},
   "outputs": [],
   "source": [
    "# examine income brackets\n",
    "def colincometointeger(income):\n",
    "    if pd.isnull(income):\n",
    "        return None\n",
    "    else:\n",
    "        splitincome = income.split()[0]\n",
    "        if splitincome == \"Prefer\":\n",
    "            return None\n",
    "        else:\n",
    "            splitincome = int(splitincome.replace(\"$\", \"\").replace(\",\", \"\"))\n",
    "            return splitincome\n",
    "\n",
    "col = 'total_household_income'\n",
    "new_col = \"int_income\"\n",
    "thanks[new_col] = thanks[col].apply(colincometointeger)\n",
    "print(\"--------------------\")\n",
    "print(thanks[new_col].value_counts(dropna=False))\n",
    "print(\"--------------------\")\n",
    "print(thanks[new_col].describe())"
   ]
  },
  {
   "cell_type": "code",
   "execution_count": null,
   "metadata": {},
   "outputs": [],
   "source": [
    "geography = thanks[['US Region','How would you describe where you live?']]\n",
    "geography.head()"
   ]
  },
  {
   "cell_type": "code",
   "execution_count": null,
   "metadata": {},
   "outputs": [],
   "source": [
    "geography.value_counts().to_frame()"
   ]
  },
  {
   "cell_type": "markdown",
   "metadata": {},
   "source": [
    "## Travel"
   ]
  },
  {
   "cell_type": "code",
   "execution_count": null,
   "metadata": {},
   "outputs": [],
   "source": [
    "travel = thanks[['How far will you travel for Thanksgiving?']]\n",
    "travel.value_counts()"
   ]
  },
  {
   "cell_type": "markdown",
   "metadata": {},
   "source": [
    "# Summary:\n",
    "1. **What is the main dish served during Thanksgiving? What is the preferred way that it's cooked?**\n",
    "    * baked turkey\n",
    "    * bread-based stuffing\n",
    "2. **What are the common desserts responders typically have?**\n",
    "3. **What are the common characteristics of the responders? (income, age, gender, geographical location)**\n",
    "    * Age: 45 - 59\n",
    "    * Ave total income per household: 75,965 USD\n",
    "    * Geographical location: Suburban in South Atlantic\n",
    "    * Over 50% of the responders are female\n",
    "4. **How far do responders typically travel for Thanksgiving? Could the post-meal fatigue be from traveling?**\n",
    "    * Most responders do not travel for Thanksgiving and is happening at their\n",
    "5. **What are the limitations of this dataset?**\n",
    "    * The dataset does not contain information regarding responders feeling fatigue post Thanksgiving meal \n",
    "    * Questions regarding side dishes and pie use 'served' instead of 'consumed'. Food served doesn't necessarily mean it's eaten. Only food intaken matters so I focused on the desserts that the responders 'typically have'\n",
    "6. **What additional data would be useful to have?**\n",
    "    * Asking responders if they feel fatigued post Thanksgiving meal\n",
    "    * More recent data than 2015\n",
    "    * Race and Ethnicity \n",
    "    * Nutritional values on the type of food served to quantify sugar and carbs intaken\n",
    "    * Preffered source of energy? Coffee, tea etc. - will the new product be consumed and comparable to the responders' preffered source of energy? \n",
    "    "
   ]
  },
  {
   "cell_type": "markdown",
   "metadata": {},
   "source": [
    "# 2.) SQL"
   ]
  },
  {
   "cell_type": "markdown",
   "metadata": {},
   "source": [
    "\n"
   ]
  },
  {
   "cell_type": "markdown",
   "metadata": {},
   "source": [
    "# 3.) BSM Performance Analysis"
   ]
  },
  {
   "cell_type": "markdown",
   "metadata": {},
   "source": [
    "### 1. What KPIs might describe the performance of the lab? Why?\n",
    "- To measure efficiency, the goal is to identify how much time is invested from shipment arrival to sample activation for lab processing.\n",
    "\n",
    "### 2. What type of data do you think you would need to acquire in order to complete this task?\n",
    "- Movement of samples must be time stamped as they move through the different systems. \n",
    "- It's important to track the operator in order to have a point person when questions arise anytime during the process\n",
    "- Shipment arrival date/time, shipping condition, freezer location at intake (must be logged in appropriate storage per sample type)\n",
    "- Freezer temperature must be tracked throughout the day to preserve sample integrity\n",
    "- Assign each sample a unique ID and each container a unique ID. Multiple aliquots of the same sample should be assigned the same sample ID but different container ID - this is important if the client only wants to process one aliquot and hold the rest of the containers as reserve.\n",
    "- Container types (gDNA plates and tubes are easier to accession compare to others)\n",
    "- At intake, sample type and source determines the extraction method and sample input per assay\n",
    "- Any type of discrepancies (mislabeling, metadata issues, sample integrity etc.) that prevent positively ID-ing the samples for lab processing. How long it takes to resolve these issues must also be tracked.\n",
    "\n",
    "### 3. What would be your general course of action from start to finish?\n",
    "- Consult the subject matter experts from the BSM team and learn about their current workflow \n",
    "- Check if the target metrics mentioned above are captured in CORA/LIMS \n",
    "- Identify pain points - make sure this is captured in the report \n",
    "- Create dashboard containing metrics above - filter by time of the quarter, project type (pharma, antigen map etc.) \n",
    "- QC and validate report\n",
    "\n",
    "### 4. How do you think your performance completing this project may be measured? \n",
    "- Collaborating with the BSM team \n",
    "- Time it took to create a functioning tool for BSM to use "
   ]
  },
  {
   "cell_type": "code",
   "execution_count": null,
   "metadata": {},
   "outputs": [],
   "source": []
  }
 ],
 "metadata": {
  "kernelspec": {
   "display_name": "Python 3",
   "language": "python",
   "name": "python3"
  },
  "language_info": {
   "codemirror_mode": {
    "name": "ipython",
    "version": 3
   },
   "file_extension": ".py",
   "mimetype": "text/x-python",
   "name": "python",
   "nbconvert_exporter": "python",
   "pygments_lexer": "ipython3",
   "version": "3.7.7"
  }
 },
 "nbformat": 4,
 "nbformat_minor": 4
}
